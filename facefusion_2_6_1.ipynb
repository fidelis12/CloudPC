{
  "nbformat": 4,
  "nbformat_minor": 0,
  "metadata": {
    "colab": {
      "provenance": [],
      "gpuType": "T4",
      "include_colab_link": true
    },
    "kernelspec": {
      "name": "python3",
      "display_name": "Python 3"
    },
    "language_info": {
      "name": "python"
    },
    "accelerator": "GPU"
  },
  "cells": [
    {
      "cell_type": "markdown",
      "metadata": {
        "id": "view-in-github",
        "colab_type": "text"
      },
      "source": [
        "<a href=\"https://colab.research.google.com/github/fidelis12/CloudPC/blob/main/facefusion_2_6_1.ipynb\" target=\"_parent\"><img src=\"https://colab.research.google.com/assets/colab-badge.svg\" alt=\"Open In Colab\"/></a>"
      ]
    },
    {
      "cell_type": "code",
      "execution_count": 1,
      "metadata": {
        "id": "XaqO7feu9sAw",
        "colab": {
          "base_uri": "https://localhost:8080/",
          "height": 1000
        },
        "outputId": "bbafd886-d641-4969-fda1-5f23efcbc24c"
      },
      "outputs": [
        {
          "output_type": "stream",
          "name": "stdout",
          "text": [
            "Installed!\n"
          ]
        }
      ],
      "source": [
        "from IPython.display import clear_output\n",
        "import codecs\n",
        "import torch\n",
        "\n",
        "if torch.cuda.is_available():\n",
        "  device=\"cuda\"\n",
        "  !apt-get install nvidia-cuda-toolkit\n",
        "  print(\"Using GPU\")\n",
        "else:\n",
        "  device=\"cpu\"\n",
        "  print(\"Using CPU\")\n",
        "\n",
        "giturl = codecs.decode('uggcf://tvguho.pbz/snprshfvba/snprshfvba.tvg','rot_13')\n",
        "gitdir = codecs.decode('snprshfvba','rot_13')\n",
        "!git clone {giturl}\n",
        "%cd /content/{gitdir}\n",
        "!pip install -r requirements.txt\n",
        "!pip install onnxruntime-gpu\n",
        "\n",
        "clear_output()\n",
        "print(\"Installed!\")"
      ]
    },
    {
      "cell_type": "code",
      "source": [
        "import codecs\n",
        "gitdir = codecs.decode('snprshfvba','rot_13')\n",
        "%cd /content/{gitdir}\n",
        "\n",
        "if device==\"cuda\":\n",
        "  !python run.py --execution-providers cpu cuda\n",
        "else:\n",
        "  !python run.py --execution-providers cpu"
      ],
      "metadata": {
        "id": "996UKUjT-BEu"
      },
      "execution_count": null,
      "outputs": []
    },
    {
      "cell_type": "code",
      "source": [
        "!npm install -g localtunnel\n",
        "import subprocess\n",
        "import threading\n",
        "import time\n",
        "import socket\n",
        "import urllib.request\n",
        "def iframe_thread(port):\n",
        "    while True:\n",
        "        time.sleep(0.5)\n",
        "        sock= socket.socket(socket.AF_INET, socket.SOCK_STREAM)\n",
        "        result = sock.connect_ex(('127.0.0.1', port))\n",
        "        if result == 0:\n",
        "            break\n",
        "        sock.close()\n",
        "\n",
        "        from colorama import Fore, Style\n",
        "    print (Fore.GREEN + \"\\nIP: \", Fore. RED, urllib.request.urlopen('https://ipv4.icanhazip.com').read().decode('utf8').strip(\"\\n\"), \"\\n\", Style. RESET_ALL)\n",
        "    p = subprocess.Popen([\"lt\", \"--port\", \"{}\".format(port)], stdout=subprocess.PIPE)\n",
        "    for line in p.stdout:\n",
        "        print(line.decode(), end='')\n",
        "threading.Thread (target=iframe_thread, daemon=True, args=(7860,)).start()\n",
        "\n",
        "\n",
        "\n",
        "\n",
        "!python run.py"
      ],
      "metadata": {
        "id": "WyELkRnM9EK1",
        "colab": {
          "base_uri": "https://localhost:8080/"
        },
        "outputId": "12695f34-1859-4f02-8433-e008ed21d685"
      },
      "execution_count": 3,
      "outputs": [
        {
          "output_type": "stream",
          "name": "stdout",
          "text": [
            "\u001b[K\u001b[?25h/tools/node/bin/lt -> /tools/node/lib/node_modules/localtunnel/bin/lt.js\n",
            "+ localtunnel@2.0.2\n",
            "added 22 packages from 22 contributors in 1.61s\n",
            "Downloading: 100% 22.5M/22.5M [00:00<00:00, 37.2MB/s]\n",
            "Downloading: 100% 93.4M/93.4M [00:01<00:00, 88.2MB/s]\n",
            "Downloading: 100% 922k/922k [00:00<00:00, 2.46MB/s]\n",
            "Downloading: 100% 1.26M/1.26M [00:00<00:00, 2.34MB/s]\n",
            "Downloading: 100% 12.1M/12.1M [00:00<00:00, 20.1MB/s]\n",
            "Downloading: 100% 166M/166M [00:01<00:00, 130MB/s]\n",
            "Downloading: 100% 67.1M/67.1M [00:00<00:00, 71.3MB/s]\n",
            "Downloading: 100% 50.7M/50.7M [00:00<00:00, 76.9MB/s]\n",
            "Downloading: 100% 63.7M/63.7M [00:00<00:00, 89.9MB/s]\n",
            "Downloading: 100% 265M/265M [00:01<00:00, 156MB/s]\n",
            "Running on local URL:  http://127.0.0.1:7860\n",
            "\u001b[32m\n",
            "IP:  \u001b[31m 34.125.183.131 \n",
            " \u001b[0m\n",
            "your url is: https://odd-baboons-feel.loca.lt\n",
            "[FACEFUSION.CORE] Copying image with a resolution of 2048x1536\n",
            "[FACEFUSION.PROCESSORS.FRAME.MODULES.FACE_SWAPPER] Processing\n",
            "[FACEFUSION.CORE] Finalizing image with a resolution of 2048x1536\n",
            "[FACEFUSION.CORE] Processing to image succeed in 1.38 seconds\n",
            "[FACEFUSION.CORE] Copying image with a resolution of 720x720\n",
            "[FACEFUSION.PROCESSORS.FRAME.MODULES.FACE_SWAPPER] Processing\n",
            "[FACEFUSION.CORE] Finalizing image with a resolution of 720x720\n",
            "[FACEFUSION.CORE] Processing to image succeed in 0.68 seconds\n",
            "Downloading: 100% 324M/324M [00:01<00:00, 175MB/s]\n",
            "[FACEFUSION.CORE] Copying image with a resolution of 720x720\n",
            "[FACEFUSION.PROCESSORS.FRAME.MODULES.FACE_SWAPPER] Processing\n",
            "[FACEFUSION.PROCESSORS.FRAME.MODULES.FACE_ENHANCER] Processing\n",
            "[FACEFUSION.CORE] Finalizing image with a resolution of 720x720\n",
            "[FACEFUSION.CORE] Processing to image succeed in 2.08 seconds\n",
            "Downloading: 100% 1.55G/1.55G [00:11<00:00, 139MB/s] \n",
            "Downloading:   3% 8.84M/281M [00:00<00:03, 92.7MB/s][FACEFUSION.PROCESSORS.FRAME.MODULES.FACE_ENHANCER] Download of the model is not done!\n",
            "Downloading: 100% 281M/281M [00:04<00:00, 67.8MB/s]\n",
            "[FACEFUSION.CORE] Copying image with a resolution of 720x720\n",
            "[FACEFUSION.PROCESSORS.FRAME.MODULES.FACE_SWAPPER] Processing\n",
            "[FACEFUSION.PROCESSORS.FRAME.MODULES.FACE_ENHANCER] Processing\n",
            "[FACEFUSION.CORE] Finalizing image with a resolution of 720x720\n",
            "[FACEFUSION.CORE] Processing to image succeed in 2.25 seconds\n",
            "Downloading:   0% 12.0k/324M [00:00<4:19:07, 21.9kB/s][FACEFUSION.PROCESSORS.FRAME.MODULES.FACE_ENHANCER] Download of the model is not done!\n",
            "Downloading: 100% 324M/324M [00:02<00:00, 136MB/s]\n",
            "Downloading:  13% 26.8M/200M [00:00<00:00, 232MB/s][FACEFUSION.PROCESSORS.FRAME.MODULES.FACE_SWAPPER] Download of the model is not done!\n",
            "Downloading: 100% 200M/200M [00:01<00:00, 160MB/s]\n",
            "Downloading: 100% 210M/210M [00:01<00:00, 132MB/s]\n",
            "[FACEFUSION.CORE] Copying image with a resolution of 720x720\n",
            "[FACEFUSION.PROCESSORS.FRAME.MODULES.FACE_SWAPPER] Processing\n",
            "[FACEFUSION.PROCESSORS.FRAME.MODULES.FACE_ENHANCER] Processing\n",
            "[FACEFUSION.CORE] Finalizing image with a resolution of 720x720\n",
            "[FACEFUSION.CORE] Processing to image succeed in 1.60 seconds\n",
            "[FACEFUSION.CORE] Copying image with a resolution of 720x720\n",
            "[FACEFUSION.PROCESSORS.FRAME.MODULES.FACE_SWAPPER] Processing\n",
            "[FACEFUSION.PROCESSORS.FRAME.MODULES.FACE_ENHANCER] Processing\n",
            "[FACEFUSION.PROCESSORS.FRAME.MODULES.FACE_DEBUGGER] Processing\n",
            "[FACEFUSION.CORE] Finalizing image with a resolution of 720x720\n",
            "[FACEFUSION.CORE] Processing to image succeed in 2.23 seconds\n",
            "[FACEFUSION.CORE] Copying image with a resolution of 720x720\n",
            "[FACEFUSION.PROCESSORS.FRAME.MODULES.FACE_SWAPPER] Processing\n",
            "[FACEFUSION.PROCESSORS.FRAME.MODULES.FACE_DEBUGGER] Processing\n",
            "[FACEFUSION.CORE] Finalizing image with a resolution of 720x720\n",
            "[FACEFUSION.CORE] Processing to image succeed in 2.33 seconds\n",
            "[FACEFUSION.CORE] Copying image with a resolution of 720x720\n",
            "[FACEFUSION.PROCESSORS.FRAME.MODULES.FACE_SWAPPER] Processing\n",
            "[FACEFUSION.CORE] Finalizing image with a resolution of 720x720\n",
            "[FACEFUSION.CORE] Processing to image succeed in 0.84 seconds\n",
            "[FACEFUSION.CORE] Copying image with a resolution of 564x752\n",
            "[FACEFUSION.PROCESSORS.FRAME.MODULES.FACE_SWAPPER] Processing\n",
            "[FACEFUSION.CORE] Finalizing image with a resolution of 564x752\n",
            "[FACEFUSION.CORE] Processing to image succeed in 0.69 seconds\n",
            "[FACEFUSION.CORE] Copying image with a resolution of 564x752\n",
            "[FACEFUSION.PROCESSORS.FRAME.MODULES.FACE_SWAPPER] Processing\n",
            "[FACEFUSION.CORE] Finalizing image with a resolution of 564x752\n",
            "[FACEFUSION.CORE] Processing to image succeed in 0.53 seconds\n",
            "Downloading: 100% 16.1M/16.1M [00:00<00:00, 27.0MB/s]\n",
            "[FACEFUSION.CORE] Copying image with a resolution of 564x752\n",
            "[FACEFUSION.PROCESSORS.FRAME.MODULES.FACE_SWAPPER] Processing\n",
            "[FACEFUSION.CORE] Finalizing image with a resolution of 564x752\n",
            "[FACEFUSION.CORE] Processing to image succeed in 0.36 seconds\n",
            "[FACEFUSION.CORE] Copying image with a resolution of 564x752\n",
            "[FACEFUSION.PROCESSORS.FRAME.MODULES.FACE_SWAPPER] Processing\n",
            "[FACEFUSION.CORE] Finalizing image with a resolution of 564x752\n",
            "[FACEFUSION.CORE] Processing to image succeed in 1.53 seconds\n",
            "[FACEFUSION.CORE] Copying image with a resolution of 736x1308\n",
            "[FACEFUSION.CORE] Copying image failed\n",
            "[FACEFUSION.CORE] Copying image with a resolution of 736x1308\n",
            "[FACEFUSION.CORE] Copying image failed\n",
            "[FACEFUSION.PROCESSORS.FRAME.MODULES.FACE_SWAPPER] No source face detected!\n"
          ]
        }
      ]
    },
    {
      "cell_type": "code",
      "source": [
        "!pip install colorama"
      ],
      "metadata": {
        "id": "AdKoCHKA9NpU",
        "colab": {
          "base_uri": "https://localhost:8080/"
        },
        "outputId": "753cdf14-dfc2-47ec-ebc3-1cae5f675b46"
      },
      "execution_count": 2,
      "outputs": [
        {
          "output_type": "stream",
          "name": "stdout",
          "text": [
            "Collecting colorama\n",
            "  Downloading colorama-0.4.6-py2.py3-none-any.whl (25 kB)\n",
            "Installing collected packages: colorama\n",
            "Successfully installed colorama-0.4.6\n"
          ]
        }
      ]
    }
  ]
}